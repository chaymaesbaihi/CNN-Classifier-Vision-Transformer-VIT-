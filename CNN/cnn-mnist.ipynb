{
 "cells": [
  {
   "cell_type": "code",
   "execution_count": 1,
   "metadata": {
    "_cell_guid": "b1076dfc-b9ad-4769-8c92-a6c4dae69d19",
    "_uuid": "8f2839f25d086af736a60e9eeb907d3b93b6e0e5",
    "execution": {
     "iopub.execute_input": "2023-11-26T15:57:17.371661Z",
     "iopub.status.busy": "2023-11-26T15:57:17.371350Z",
     "iopub.status.idle": "2023-11-26T15:57:22.645489Z",
     "shell.execute_reply": "2023-11-26T15:57:22.644599Z",
     "shell.execute_reply.started": "2023-11-26T15:57:17.371634Z"
    }
   },
   "outputs": [
    {
     "name": "stderr",
     "output_type": "stream",
     "text": [
      "/opt/conda/lib/python3.10/site-packages/scipy/__init__.py:146: UserWarning: A NumPy version >=1.16.5 and <1.23.0 is required for this version of SciPy (detected version 1.24.3\n",
      "  warnings.warn(f\"A NumPy version >={np_minversion} and <{np_maxversion}\"\n"
     ]
    }
   ],
   "source": [
    "import torch, torchvision\n",
    "from torch import nn\n",
    "from torch import optim\n",
    "from torchvision.transforms import ToTensor\n",
    "import torch.nn.functional as F\n",
    "import matplotlib.pyplot as plt\n",
    "\n",
    "from sklearn.metrics import confusion_matrix\n",
    "import pandas as pd\n",
    "import numpy as np\n",
    "import copy"
   ]
  },
  {
   "cell_type": "code",
   "execution_count": 2,
   "metadata": {
    "execution": {
     "iopub.execute_input": "2023-11-26T15:57:39.309782Z",
     "iopub.status.busy": "2023-11-26T15:57:39.309262Z",
     "iopub.status.idle": "2023-11-26T15:57:40.322213Z",
     "shell.execute_reply": "2023-11-26T15:57:40.321243Z",
     "shell.execute_reply.started": "2023-11-26T15:57:39.309751Z"
    }
   },
   "outputs": [
    {
     "name": "stdout",
     "output_type": "stream",
     "text": [
      "Downloading http://yann.lecun.com/exdb/mnist/train-images-idx3-ubyte.gz\n",
      "Downloading http://yann.lecun.com/exdb/mnist/train-images-idx3-ubyte.gz to mnist_data/MNIST/raw/train-images-idx3-ubyte.gz\n"
     ]
    },
    {
     "name": "stderr",
     "output_type": "stream",
     "text": [
      "100%|██████████| 9912422/9912422 [00:00<00:00, 101421984.46it/s]\n"
     ]
    },
    {
     "name": "stdout",
     "output_type": "stream",
     "text": [
      "Extracting mnist_data/MNIST/raw/train-images-idx3-ubyte.gz to mnist_data/MNIST/raw\n",
      "\n",
      "Downloading http://yann.lecun.com/exdb/mnist/train-labels-idx1-ubyte.gz\n",
      "Downloading http://yann.lecun.com/exdb/mnist/train-labels-idx1-ubyte.gz to mnist_data/MNIST/raw/train-labels-idx1-ubyte.gz\n"
     ]
    },
    {
     "name": "stderr",
     "output_type": "stream",
     "text": [
      "100%|██████████| 28881/28881 [00:00<00:00, 50620849.91it/s]\n"
     ]
    },
    {
     "name": "stdout",
     "output_type": "stream",
     "text": [
      "Extracting mnist_data/MNIST/raw/train-labels-idx1-ubyte.gz to mnist_data/MNIST/raw\n",
      "\n",
      "Downloading http://yann.lecun.com/exdb/mnist/t10k-images-idx3-ubyte.gz\n",
      "Downloading http://yann.lecun.com/exdb/mnist/t10k-images-idx3-ubyte.gz to mnist_data/MNIST/raw/t10k-images-idx3-ubyte.gz\n"
     ]
    },
    {
     "name": "stderr",
     "output_type": "stream",
     "text": [
      "100%|██████████| 1648877/1648877 [00:00<00:00, 23918502.19it/s]\n"
     ]
    },
    {
     "name": "stdout",
     "output_type": "stream",
     "text": [
      "Extracting mnist_data/MNIST/raw/t10k-images-idx3-ubyte.gz to mnist_data/MNIST/raw\n",
      "\n",
      "Downloading http://yann.lecun.com/exdb/mnist/t10k-labels-idx1-ubyte.gz\n",
      "Downloading http://yann.lecun.com/exdb/mnist/t10k-labels-idx1-ubyte.gz to mnist_data/MNIST/raw/t10k-labels-idx1-ubyte.gz\n"
     ]
    },
    {
     "name": "stderr",
     "output_type": "stream",
     "text": [
      "100%|██████████| 4542/4542 [00:00<00:00, 8918786.88it/s]\n"
     ]
    },
    {
     "name": "stdout",
     "output_type": "stream",
     "text": [
      "Extracting mnist_data/MNIST/raw/t10k-labels-idx1-ubyte.gz to mnist_data/MNIST/raw\n",
      "\n"
     ]
    }
   ],
   "source": [
    "# getting data \n",
    "numb_batch = 64\n",
    "T = torchvision.transforms.Compose([\n",
    "    torchvision.transforms.ToTensor()\n",
    "])\n",
    "train_data = torchvision.datasets.MNIST('mnist_data', train=True, download=True, transform=T)\n",
    "val_data = torchvision.datasets.MNIST('mnist_data', train=False, download=True, transform=T)\n",
    "\n",
    "train_dl = torch.utils.data.DataLoader(train_data, batch_size = numb_batch)\n",
    "val_dl = torch.utils.data.DataLoader(val_data, batch_size = numb_batch)"
   ]
  },
  {
   "cell_type": "code",
   "execution_count": 7,
   "metadata": {
    "execution": {
     "iopub.execute_input": "2023-11-26T15:59:11.149154Z",
     "iopub.status.busy": "2023-11-26T15:59:11.148415Z",
     "iopub.status.idle": "2023-11-26T15:59:11.155653Z",
     "shell.execute_reply": "2023-11-26T15:59:11.154350Z",
     "shell.execute_reply.started": "2023-11-26T15:59:11.149118Z"
    }
   },
   "outputs": [],
   "source": [
    "#model\n",
    "def create_lenet():\n",
    "    model = nn.Sequential(\n",
    "        nn.Conv2d(1, 6, 5, padding=2),\n",
    "        nn.ReLU(),\n",
    "        nn.AvgPool2d(2, stride=2),\n",
    "        nn.Conv2d(6, 16, 5, padding=0),\n",
    "        nn.ReLU(),\n",
    "        nn.AvgPool2d(2, stride=2),\n",
    "        nn.Flatten(),\n",
    "        nn.Linear(400, 120),\n",
    "        nn.ReLU(),\n",
    "        nn.Linear(120, 84),\n",
    "        nn.ReLU(),\n",
    "        nn.Linear(84, 10)\n",
    "    )\n",
    "    return model"
   ]
  },
  {
   "cell_type": "code",
   "execution_count": 8,
   "metadata": {
    "execution": {
     "iopub.execute_input": "2023-11-26T15:59:12.244339Z",
     "iopub.status.busy": "2023-11-26T15:59:12.243834Z",
     "iopub.status.idle": "2023-11-26T15:59:12.251005Z",
     "shell.execute_reply": "2023-11-26T15:59:12.249850Z",
     "shell.execute_reply.started": "2023-11-26T15:59:12.244304Z"
    }
   },
   "outputs": [],
   "source": [
    "#validate model\n",
    "def validate(model, data):\n",
    "    total = 0\n",
    "    correct = 0\n",
    "    for i, (images, labels) in enumerate(data):\n",
    "        images = images.cuda()\n",
    "        x = model(images)\n",
    "        value, pred = torch.max(x,1)\n",
    "        pred = pred.data.cpu()\n",
    "        total += x.size(0)\n",
    "        correct += torch.sum(pred == labels)\n",
    "    return correct*100./total"
   ]
  },
  {
   "cell_type": "code",
   "execution_count": 9,
   "metadata": {
    "execution": {
     "iopub.execute_input": "2023-11-26T15:59:13.612994Z",
     "iopub.status.busy": "2023-11-26T15:59:13.612279Z",
     "iopub.status.idle": "2023-11-26T15:59:13.624089Z",
     "shell.execute_reply": "2023-11-26T15:59:13.622493Z",
     "shell.execute_reply.started": "2023-11-26T15:59:13.612963Z"
    }
   },
   "outputs": [],
   "source": [
    "#training\n",
    "def train(numb_epoch=3, lr=1e-3, device=\"gpu\"):\n",
    "    accuracies = []\n",
    "    cnn = create_lenet().to(device)\n",
    "    cec = nn.CrossEntropyLoss()\n",
    "    optimizer = optim.Adam(cnn.parameters(), lr=lr)\n",
    "    max_accuracy = 0\n",
    "    for epoch in range(numb_epoch):\n",
    "        for i, (images, labels) in enumerate(train_dl):\n",
    "            images = images.to(device)\n",
    "            labels = labels.to(device)\n",
    "            optimizer.zero_grad()\n",
    "            pred = cnn(images)\n",
    "            loss = cec(pred, labels)\n",
    "            loss.backward()\n",
    "            optimizer.step()\n",
    "        accuracy = float(validate(cnn, val_dl))\n",
    "        accuracies.append(accuracy)\n",
    "        if accuracy > max_accuracy:\n",
    "            best_model = copy.deepcopy(cnn)\n",
    "            max_accuracy = accuracy\n",
    "            print(\"Saving Best Model with Accuracy: \", accuracy)\n",
    "        print('Epoch:', epoch+1, \"Accuracy :\", accuracy, '%')\n",
    "    plt.plot(accuracies)\n",
    "    return best_model"
   ]
  },
  {
   "cell_type": "code",
   "execution_count": 12,
   "metadata": {
    "execution": {
     "iopub.execute_input": "2023-11-26T16:00:27.718861Z",
     "iopub.status.busy": "2023-11-26T16:00:27.718492Z",
     "iopub.status.idle": "2023-11-26T16:05:49.212761Z",
     "shell.execute_reply": "2023-11-26T16:05:49.211738Z",
     "shell.execute_reply.started": "2023-11-26T16:00:27.718832Z"
    }
   },
   "outputs": [
    {
     "name": "stdout",
     "output_type": "stream",
     "text": [
      "Saving Best Model with Accuracy:  95.54000091552734\n",
      "Epoch: 1 Accuracy : 95.54000091552734 %\n",
      "Saving Best Model with Accuracy:  96.51000213623047\n",
      "Epoch: 2 Accuracy : 96.51000213623047 %\n",
      "Saving Best Model with Accuracy:  97.56999969482422\n",
      "Epoch: 3 Accuracy : 97.56999969482422 %\n",
      "Saving Best Model with Accuracy:  98.0\n",
      "Epoch: 4 Accuracy : 98.0 %\n",
      "Saving Best Model with Accuracy:  98.0999984741211\n",
      "Epoch: 5 Accuracy : 98.0999984741211 %\n",
      "Saving Best Model with Accuracy:  98.38999938964844\n",
      "Epoch: 6 Accuracy : 98.38999938964844 %\n",
      "Saving Best Model with Accuracy:  98.45999908447266\n",
      "Epoch: 7 Accuracy : 98.45999908447266 %\n",
      "Saving Best Model with Accuracy:  98.4800033569336\n",
      "Epoch: 8 Accuracy : 98.4800033569336 %\n",
      "Saving Best Model with Accuracy:  98.58999633789062\n",
      "Epoch: 9 Accuracy : 98.58999633789062 %\n",
      "Saving Best Model with Accuracy:  98.61000061035156\n",
      "Epoch: 10 Accuracy : 98.61000061035156 %\n",
      "Epoch: 11 Accuracy : 98.5199966430664 %\n",
      "Saving Best Model with Accuracy:  98.73999786376953\n",
      "Epoch: 12 Accuracy : 98.73999786376953 %\n",
      "Saving Best Model with Accuracy:  98.76000213623047\n",
      "Epoch: 13 Accuracy : 98.76000213623047 %\n",
      "Epoch: 14 Accuracy : 98.55999755859375 %\n",
      "Saving Best Model with Accuracy:  98.79000091552734\n",
      "Epoch: 15 Accuracy : 98.79000091552734 %\n",
      "Saving Best Model with Accuracy:  98.83999633789062\n",
      "Epoch: 16 Accuracy : 98.83999633789062 %\n",
      "Epoch: 17 Accuracy : 98.70999908447266 %\n",
      "Saving Best Model with Accuracy:  98.9000015258789\n",
      "Epoch: 18 Accuracy : 98.9000015258789 %\n",
      "Epoch: 19 Accuracy : 98.87999725341797 %\n",
      "Saving Best Model with Accuracy:  99.0199966430664\n",
      "Epoch: 20 Accuracy : 99.0199966430664 %\n",
      "Epoch: 21 Accuracy : 98.95999908447266 %\n",
      "Epoch: 22 Accuracy : 98.72000122070312 %\n",
      "Epoch: 23 Accuracy : 98.87000274658203 %\n",
      "Epoch: 24 Accuracy : 98.80999755859375 %\n",
      "Epoch: 25 Accuracy : 98.94999694824219 %\n",
      "Epoch: 26 Accuracy : 98.88999938964844 %\n",
      "Epoch: 27 Accuracy : 98.94999694824219 %\n",
      "Epoch: 28 Accuracy : 98.69000244140625 %\n",
      "Epoch: 29 Accuracy : 98.94000244140625 %\n",
      "Epoch: 30 Accuracy : 98.88999938964844 %\n"
     ]
    },
    {
     "data": {
      "image/png": "[encoded data removed]",
      "text/plain": [
       "<Figure size 640x480 with 1 Axes>"
      ]
     },
     "metadata": {},
     "output_type": "display_data"
    }
   ],
   "source": [
    " device = torch.device(\"cuda:0\")\n",
    "lenet = train(30, device=device)"
   ]
  },
  {
   "cell_type": "code",
   "execution_count": 13,
   "metadata": {
    "execution": {
     "iopub.execute_input": "2023-11-26T16:08:38.920904Z",
     "iopub.status.busy": "2023-11-26T16:08:38.920507Z",
     "iopub.status.idle": "2023-11-26T16:08:38.927958Z",
     "shell.execute_reply": "2023-11-26T16:08:38.927035Z",
     "shell.execute_reply.started": "2023-11-26T16:08:38.920855Z"
    }
   },
   "outputs": [],
   "source": [
    "def predict_dl(model, data):\n",
    "    y_pred = []\n",
    "    y_true = []\n",
    "    for i, (images, labels) in enumerate(data):\n",
    "        images = images.cuda()\n",
    "        x = model(images)\n",
    "        value, pred = torch.max(x, 1)\n",
    "        pred = pred.data.cpu()\n",
    "        y_pred.extend(list(pred.numpy()))\n",
    "        y_true.extend(list(labels.numpy()))\n",
    "    return np.array(y_pred), np.array(y_true)"
   ]
  },
  {
   "cell_type": "code",
   "execution_count": 14,
   "metadata": {
    "execution": {
     "iopub.execute_input": "2023-11-26T16:08:39.434205Z",
     "iopub.status.busy": "2023-11-26T16:08:39.433290Z",
     "iopub.status.idle": "2023-11-26T16:08:40.712181Z",
     "shell.execute_reply": "2023-11-26T16:08:40.711351Z",
     "shell.execute_reply.started": "2023-11-26T16:08:39.434171Z"
    }
   },
   "outputs": [],
   "source": [
    "y_pred, y_true = predict_dl(lenet, val_dl)"
   ]
  },
  {
   "cell_type": "code",
   "execution_count": 25,
   "metadata": {
    "execution": {
     "iopub.execute_input": "2023-11-26T16:09:28.441438Z",
     "iopub.status.busy": "2023-11-26T16:09:28.441020Z",
     "iopub.status.idle": "2023-11-26T16:09:28.448737Z",
     "shell.execute_reply": "2023-11-26T16:09:28.447834Z",
     "shell.execute_reply.started": "2023-11-26T16:09:28.441407Z"
    }
   },
   "outputs": [],
   "source": [
    "import requests\n",
    "from PIL import Image\n",
    "from io import BytesIO\n",
    "def inference(path, model, device):\n",
    "    r = requests.get(path)\n",
    "    with BytesIO(r.content) as f:\n",
    "        img = Image.open(f).convert(mode=\"L\")\n",
    "        img = img.resize((28, 28))\n",
    "        x = (255 - np.expand_dims(np.array(img), -1))/255.\n",
    "    with torch.no_grad():\n",
    "        pred = model(torch.unsqueeze(T(x), axis=0).float().to(device))\n",
    "        return F.softmax(pred, dim=-1).cpu().numpy()"
   ]
  },
  {
   "cell_type": "code",
   "execution_count": 44,
   "metadata": {
    "execution": {
     "iopub.execute_input": "2023-11-26T16:24:08.749026Z",
     "iopub.status.busy": "2023-11-26T16:24:08.748309Z",
     "iopub.status.idle": "2023-11-26T16:24:09.029840Z",
     "shell.execute_reply": "2023-11-26T16:24:09.028695Z",
     "shell.execute_reply.started": "2023-11-26T16:24:08.748990Z"
    }
   },
   "outputs": [],
   "source": [
    "#number 8\n",
    "path = \" https://previews.123rf.com/images/aroas/aroas1704/aroas170400068/79321959-handwritten-sketch-black-number-8-on-white-background.jpg\"\n",
    "#number 4\n",
    "#path = \"https://previews.123rf.com/images/aroas/aroas1704/aroas170400032/79321927-handwritten-sketch-black-number-4-on-white-background.jpg\"\n",
    "#number3\n",
    "#path = \"https://previews.123rf.com/images/aroas/aroas1704/aroas170400051/79321944-handwritten-sketch-black-number-3-on-white-background.jpg\"\n",
    "# numer 5\n",
    "#path = \"https://previews.123rf.com/images/aroas/aroas1704/aroas170400061/79321951-handwritten-sketch-black-number-5-on-white-background.jpg\"\n",
    "r = requests.get(path)\n",
    "with BytesIO(r.content) as f:\n",
    "    img = Image.open(f).convert(mode=\"L\")\n",
    "    img = img.resize((28, 28))\n",
    "    x = (255 - np.expand_dims(np.array(img), -1))/255."
   ]
  },
  {
   "cell_type": "code",
   "execution_count": 45,
   "metadata": {
    "execution": {
     "iopub.execute_input": "2023-11-26T16:24:09.046992Z",
     "iopub.status.busy": "2023-11-26T16:24:09.046667Z",
     "iopub.status.idle": "2023-11-26T16:24:09.264658Z",
     "shell.execute_reply": "2023-11-26T16:24:09.263558Z",
     "shell.execute_reply.started": "2023-11-26T16:24:09.046962Z"
    }
   },
   "outputs": [
    {
     "data": {
      "text/plain": [
       "<matplotlib.image.AxesImage at 0x7b384d598520>"
      ]
     },
     "execution_count": 45,
     "metadata": {},
     "output_type": "execute_result"
    },
    {
     "data": {
      "image/png": "[encoded data removed]",
      "text/plain": [
       "<Figure size 640x480 with 1 Axes>"
      ]
     },
     "metadata": {},
     "output_type": "display_data"
    }
   ],
   "source": [
    "plt.imshow(x.squeeze(-1), cmap=\"gray\")\n"
   ]
  },
  {
   "cell_type": "code",
   "execution_count": 46,
   "metadata": {
    "execution": {
     "iopub.execute_input": "2023-11-26T16:24:09.278985Z",
     "iopub.status.busy": "2023-11-26T16:24:09.278668Z",
     "iopub.status.idle": "2023-11-26T16:24:09.437617Z",
     "shell.execute_reply": "2023-11-26T16:24:09.436299Z",
     "shell.execute_reply.started": "2023-11-26T16:24:09.278956Z"
    }
   },
   "outputs": [
    {
     "name": "stdout",
     "output_type": "stream",
     "text": [
      "Predicted: 8, Prob: 99.99978542327881 %\n"
     ]
    }
   ],
   "source": [
    "pred = inference(path, lenet, device=device)\n",
    "pred_idx = np.argmax(pred)\n",
    "print(f\"Predicted: {pred_idx}, Prob: {pred[0][pred_idx]*100} %\")"
   ]
  },
  {
   "cell_type": "code",
   "execution_count": null,
   "metadata": {},
   "outputs": [],
   "source": []
  }
 ],
 "metadata": {
  "kaggle": {
   "accelerator": "nvidiaTeslaT4",
   "dataSources": [],
   "dockerImageVersionId": 30588,
   "isGpuEnabled": true,
   "isInternetEnabled": true,
   "language": "python",
   "sourceType": "notebook"
  },
  "kernelspec": {
   "display_name": "Python 3 (ipykernel)",
   "language": "python",
   "name": "python3"
  },
  "language_info": {
   "codemirror_mode": {
    "name": "ipython",
    "version": 3
   },
   "file_extension": ".py",
   "mimetype": "text/x-python",
   "name": "python",
   "nbconvert_exporter": "python",
   "pygments_lexer": "ipython3",
   "version": "3.9.16"
  }
 },
 "nbformat": 4,
 "nbformat_minor": 4
}
